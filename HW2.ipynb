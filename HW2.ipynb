{
  "nbformat": 4,
  "nbformat_minor": 0,
  "metadata": {
    "colab": {
      "provenance": [],
      "authorship_tag": "ABX9TyMPege9kgV1LlDRSSo1usnc",
      "include_colab_link": true
    },
    "kernelspec": {
      "name": "python3",
      "display_name": "Python 3"
    },
    "language_info": {
      "name": "python"
    }
  },
  "cells": [
    {
      "cell_type": "markdown",
      "metadata": {
        "id": "view-in-github",
        "colab_type": "text"
      },
      "source": [
        "<a href=\"https://colab.research.google.com/github/jumpingsphinx/ESE2030/blob/main/HW2.ipynb\" target=\"_parent\"><img src=\"https://colab.research.google.com/assets/colab-badge.svg\" alt=\"Open In Colab\"/></a>"
      ]
    },
    {
      "cell_type": "code",
      "execution_count": null,
      "metadata": {
        "id": "yFbP1P1b2vgK"
      },
      "outputs": [],
      "source": [
        "import numpy as np\n",
        "import matplotlib.pyplot as plt\n",
        "import matplotlib.animation as animation"
      ]
    },
    {
      "cell_type": "code",
      "source": [
        "def gaussian_elimination(A, b):\n",
        "    \"\"\"\n",
        "    Performs Gaussian elimination on the augmented matrix [A | b] and returns the row operations.\n",
        "    \"\"\"\n",
        "    A = A.astype(float)  # Convert to float for division\n",
        "    b = b.astype(float)\n",
        "    n = len(A)\n",
        "    steps = []\n",
        "\n",
        "    aug_matrix = np.hstack((A, b.reshape(-1, 1)))\n",
        "    steps.append(aug_matrix.copy())\n",
        "\n",
        "    for i in range(n):\n",
        "        # Pivoting: Swap rows if needed\n",
        "        max_row = i + np.argmax(np.abs(aug_matrix[i:, i]))\n",
        "        if max_row != i:\n",
        "            aug_matrix[[i, max_row]] = aug_matrix[[max_row, i]]\n",
        "            steps.append(aug_matrix.copy())\n",
        "\n",
        "        # Normalize pivot row\n",
        "        aug_matrix[i] = aug_matrix[i] / aug_matrix[i, i]\n",
        "        steps.append(aug_matrix.copy())\n",
        "\n",
        "        # Eliminate entries below pivot\n",
        "        for j in range(i+1, n):\n",
        "            aug_matrix[j] -= aug_matrix[i] * aug_matrix[j, i]\n",
        "            steps.append(aug_matrix.copy())\n",
        "\n",
        "    return steps\n",
        "\n",
        "def print_elimination_steps(steps):\n",
        "    \"\"\"\n",
        "    Prints the Gaussian elimination steps.\n",
        "    \"\"\"\n",
        "    for i, step in enumerate(steps):\n",
        "        print(f\"Step {i+1}:\")\n",
        "        print(step)\n",
        "        print(\"-\" * 40)\n",
        "\n",
        "def get_user_input():\n",
        "    \"\"\"\n",
        "    Gets matrix size and values from user input.\n",
        "    \"\"\"\n",
        "    m = int(input(\"Enter the number of rows: \"))\n",
        "    n = int(input(\"Enter the number of columns: \"))\n",
        "    A = np.zeros((m, n))\n",
        "    b = np.zeros(m)\n",
        "\n",
        "    print(\"\\nEnter the coefficients of the matrix A row by row:\")\n",
        "    print(\"(Enter each row as space-separated numbers)\")\n",
        "    for i in range(m):  # Changed from n to m to properly iterate through rows\n",
        "        row = input(f\"Row {i+1}: \").split()\n",
        "        if len(row) != n:\n",
        "            raise ValueError(f\"Expected {n} values for row {i+1}, but got {len(row)}\")\n",
        "        A[i] = [float(x) for x in row]\n",
        "\n",
        "    print(\"\\nEnter the values of the solution vector b:\")\n",
        "    print(\"(Enter space-separated numbers)\")\n",
        "    b_input = input().split()\n",
        "    if len(b_input) != m:\n",
        "        raise ValueError(f\"Expected {m} values for solution vector, but got {len(b_input)}\")\n",
        "    b = np.array([float(x) for x in b_input])\n",
        "\n",
        "    return A, b\n",
        "\n",
        "def print_solutions(final_matrix):\n",
        "    \"\"\"\n",
        "    Prints the solutions from a row-reduced matrix using back substitution.\n",
        "    \"\"\"\n",
        "    n = final_matrix.shape[1] - 1  # Number of variables (matrix columns minus b column)\n",
        "    solutions = np.zeros(n)\n",
        "\n",
        "    # Check if system has no solution or infinite solutions\n",
        "    rank = np.linalg.matrix_rank(final_matrix[:, :-1])\n",
        "    aug_rank = np.linalg.matrix_rank(final_matrix)\n",
        "\n",
        "    if rank < aug_rank:\n",
        "        print(\"\\nThe system has no solution.\")\n",
        "        return\n",
        "    if rank < n:\n",
        "        print(\"\\nThe system has infinitely many solutions.\")\n",
        "        return\n",
        "\n",
        "    # Back substitution\n",
        "    for i in range(n-1, -1, -1):  # Start from last equation\n",
        "        solutions[i] = final_matrix[i, -1]  # Start with the constant term\n",
        "        # Subtract all known terms\n",
        "        for j in range(i+1, n):\n",
        "            solutions[i] -= final_matrix[i, j] * solutions[j]\n",
        "        solutions[i] /= final_matrix[i, i]  # Divide by coefficient of current variable\n",
        "\n",
        "    print(\"\\nSolutions:\")\n",
        "    for i in range(n):\n",
        "        print(f\"x{i+1} = {solutions[i]:.4f}\")"
      ],
      "metadata": {
        "id": "K6GqjxXw20ro"
      },
      "execution_count": null,
      "outputs": []
    },
    {
      "cell_type": "code",
      "source": [
        "# Usage\n",
        "A, b = get_user_input()\n",
        "steps = gaussian_elimination(A, b)\n",
        "print_elimination_steps(steps)\n",
        "print_solutions(steps[-1])"
      ],
      "metadata": {
        "id": "yW8MkiOa2_ZW"
      },
      "execution_count": null,
      "outputs": []
    }
  ]
}